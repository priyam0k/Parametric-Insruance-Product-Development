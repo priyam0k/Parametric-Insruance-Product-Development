{
 "cells": [
  {
   "cell_type": "code",
   "execution_count": null,
   "id": "5103c76f",
   "metadata": {},
   "outputs": [],
   "source": [
    "import pandas as pd\n",
    "import numpy as np"
   ]
  },
  {
   "cell_type": "markdown",
   "id": "314aba2e",
   "metadata": {},
   "source": [
    "# --- 1. Configuration & Constants ---\n",
    "# These parameters define the product and the financial model.\n",
    "# They are based on the technical challenge specifications."
   ]
  }
 ],
 "metadata": {
  "language_info": {
   "name": "python"
  }
 },
 "nbformat": 4,
 "nbformat_minor": 5
}
