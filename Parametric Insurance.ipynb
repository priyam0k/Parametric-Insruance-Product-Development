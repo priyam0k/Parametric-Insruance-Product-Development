{
 "cells": [
  {
   "cell_type": "markdown",
   "metadata": {},
   "source": [
    "# Parametric Insurance Product Analysis for Soyabean Farmers\n",
    "\n",
    "This notebook walks through the design, analysis, and pricing of a parametric crop insurance product for Soyabean farmers in Indore Block. The product is designed to protect against heavy rainfall during the harvesting period (1st to 31st October)."
   ]
  },
  {
   "cell_type": "markdown",
   "metadata": {},
   "source": [
    "## 1. Configuration & Setup\n",
    "\n",
    "First, we import the necessary libraries and define the core parameters for our insurance product and financial model. These constants are based on the technical challenge specifications."
   ]
  },
  {
   "cell_type": "code",
   "execution_count": 27,
   "metadata": {},
   "outputs": [],
   "source": [
    "import pandas as pd\n",
    "import numpy as np\n",
    "\n",
    "# --- Configuration & Constants ---\n",
    "SUM_INSURED_PER_ACRE = 50000\n",
    "ROLLING_WINDOW_DAYS = 5\n",
    "DATA_FILE_PATH = 'Historical Weather Data - ERA5-Land Rain Data.csv'\n",
    "\n",
    "# Trigger definition based on historical percentiles\n",
    "TRIGGER_PERCENTILES = {\n",
    "    'Tier 1 (Severe)': 0.80,\n",
    "    'Tier 2 (Extreme)': 0.90,\n",
    "    'Tier 3 (Catastrophic)': 0.95\n",
    "}\n",
    "\n",
    "# Loadings for calculating the commercial premium\n",
    "EXPENSE_LOADING = 0.25\n",
    "RISK_MARGIN = 0.20\n",
    "TARGET_PREMIUM_RATE = 0.05"
   ]
  },
  {
   "cell_type": "markdown",
   "metadata": {},
   "source": [
    "## 2. Data Loading and Processing\n",
    "\n",
    "Here, we load the raw ERA5-Land rainfall data. The function processes the data to calculate a single, area-wide average daily rainfall for the Indore Block by averaging the readings from all 15 grid points for each day."
   ]
  },
  {
   "cell_type": "code",
   "execution_count": 28,
   "metadata": {},
   "outputs": [
    {
     "name": "stdout",
     "output_type": "stream",
     "text": [
      "Data loaded and processed successfully.\n",
      "Date\n",
      "2005-10-01    0.026840\n",
      "2005-10-02    0.008593\n",
      "2005-10-03    0.000900\n",
      "2005-10-04    0.005847\n",
      "2005-10-05    0.000000\n",
      "Name: ERA5_RAIN (mm), dtype: float64\n"
     ]
    }
   ],
   "source": [
    "def load_and_process_data(file_path):\n",
    "    \"\"\"\n",
    "    Loads and processes the raw ERA5-Land rainfall data.\n",
    "    \"\"\"\n",
    "    try:\n",
    "        df = pd.read_csv(file_path)\n",
    "        df.columns = df.columns.str.strip().str.replace('\\n', '', regex=True)\n",
    "    except FileNotFoundError:\n",
    "        print(f\"Error: The data file was not found at '{file_path}'\")\n",
    "        return None\n",
    "\n",
    "    df['Date'] = pd.to_datetime(df['Date'], format='%d/%m/%Y')\n",
    "    \n",
    "    # Calculate the area-wide average rainfall for each day\n",
    "    daily_avg_rainfall = df.groupby('Date')['ERA5_RAIN (mm)'].mean()\n",
    "\n",
    "    return daily_avg_rainfall\n",
    "\n",
    "# Execute the function\n",
    "daily_rainfall = load_and_process_data(DATA_FILE_PATH)\n",
    "if daily_rainfall is not None:\n",
    "    print(\"Data loaded and processed successfully.\")\n",
    "    print(daily_rainfall.head())"
   ]
  },
  {
   "cell_type": "markdown",
   "metadata": {},
   "source": [
    "## 3. Index Calculation\n",
    "\n",
    "The core of the parametric product is the index. We define the index as the **Maximum N-Day Rolling Cumulative Rainfall**. This function calculates this value for each year in the historical dataset."
   ]
  },
  {
   "cell_type": "code",
   "execution_count": 22,
   "metadata": {},
   "outputs": [
    {
     "name": "stdout",
     "output_type": "stream",
     "text": [
      "Annual Index Values (2005-2024):\n",
      "Date\n",
      "2005     0.604353\n",
      "2006     7.662733\n",
      "2007     0.119107\n",
      "2008    21.294573\n",
      "2009    96.561073\n",
      "2010    21.949473\n",
      "2011     1.097907\n",
      "2012     2.822193\n",
      "2013    37.160847\n",
      "2014     4.059447\n",
      "2015    11.707520\n",
      "2016    39.705767\n",
      "2017    16.734887\n",
      "2018     0.648807\n",
      "2019    42.793640\n",
      "2020    21.469880\n",
      "2021    48.936333\n",
      "2022    55.713000\n",
      "2023     1.511673\n",
      "2024    49.812940\n",
      "Name: Max 5-Day Rolling Sum (mm), dtype: float64\n"
     ]
    }
   ],
   "source": [
    "def calculate_annual_index(daily_data, window_size):\n",
    "    \"\"\"\n",
    "    Calculates the parametric index for each year.\n",
    "    \"\"\"\n",
    "    # Calculate the rolling sum for the entire series\n",
    "    rolling_sum = daily_data.rolling(window=window_size, min_periods=1).sum()\n",
    "    \n",
    "    # Group by year and find the maximum rolling sum for each year\n",
    "    annual_index_values = rolling_sum.groupby(rolling_sum.index.year).max()\n",
    "    annual_index_values.name = f'Max {window_size}-Day Rolling Sum (mm)'\n",
    "    return annual_index_values\n",
    "\n",
    "# Execute the function\n",
    "annual_index = calculate_annual_index(daily_rainfall, ROLLING_WINDOW_DAYS)\n",
    "print(\"Annual Index Values (2005-2024):\")\n",
    "print(annual_index)"
   ]
  },
  {
   "cell_type": "markdown",
   "metadata": {},
   "source": [
    "## 4. Product Design: Triggers and Payout Calibration\n",
    "\n",
    "Now we design the product's trigger mechanism. We define three tiers of payouts based on the severity of the rainfall event, determined by percentiles of the historical index distribution. Then, we calibrate the payout percentages for each tier to meet the target commercial premium rate of 5%."
   ]
  },
  {
   "cell_type": "code",
   "execution_count": 23,
   "metadata": {},
   "outputs": [
    {
     "name": "stdout",
     "output_type": "stream",
     "text": [
      "--- Product Design ---\n",
      "Index Definition: Maximum 5-Day Rolling Cumulative Rainfall\n",
      "Sum Insured per Acre: ₹50,000\n",
      "\n",
      "[A] Trigger Thresholds (based on historical data):\n",
      "  - Tier 1 (Severe) (>80th percentile): 44.02 mm\n",
      "  - Tier 2 (Extreme) (>90th percentile): 50.40 mm\n",
      "  - Tier 3 (Catastrophic) (>95th percentile): 57.76 mm\n",
      "\n",
      "[B] Calibrated Payout Slabs (to achieve 5% premium rate):\n",
      "  - Tier 1 (Severe): 8.62% of Sum Insured\n",
      "  - Tier 2 (Extreme): 17.24% of Sum Insured\n",
      "  - Tier 3 (Catastrophic): 34.48% of Sum Insured\n"
     ]
    }
   ],
   "source": [
    "def design_triggers(annual_index, percentiles):\n",
    "    \"\"\"\n",
    "    Defines the trigger thresholds for each payout tier.\n",
    "    \"\"\"\n",
    "    triggers = {\n",
    "        tier: annual_index.quantile(p) for tier, p in percentiles.items()\n",
    "    }\n",
    "    return triggers\n",
    "\n",
    "def calibrate_payout_slabs(annual_index, triggers, target_rate, expense_load, risk_margin):\n",
    "    \"\"\"\n",
    "    Calibrates the payout percentages for each tier.\n",
    "    \"\"\"\n",
    "    # Determine which years triggered which tier\n",
    "    tier3_events = (annual_index >= triggers['Tier 3 (Catastrophic)']).sum()\n",
    "    tier2_events = ((annual_index >= triggers['Tier 2 (Extreme)']) & (annual_index < triggers['Tier 3 (Catastrophic)'])).sum()\n",
    "    tier1_events = ((annual_index >= triggers['Tier 1 (Severe)']) & (annual_index < triggers['Tier 2 (Extreme)'])).sum()\n",
    "\n",
    "    total_loading_factor = 1 + expense_load + risk_margin\n",
    "    required_pure_premium_rate = target_rate / total_loading_factor\n",
    "    total_payout_percent_over_period = required_pure_premium_rate * len(annual_index)\n",
    "    \n",
    "    payout_weights = {'tier1': 1, 'tier2': 2, 'tier3': 4}\n",
    "    total_weighted_events = (tier1_events * payout_weights['tier1'] + \n",
    "                             tier2_events * payout_weights['tier2'] + \n",
    "                             tier3_events * payout_weights['tier3'])\n",
    "\n",
    "    if total_weighted_events == 0:\n",
    "        return {'Tier 1 (Severe)': 0, 'Tier 2 (Extreme)': 0, 'Tier 3 (Catastrophic)': 0}\n",
    "\n",
    "    base_payout_unit = total_payout_percent_over_period / total_weighted_events\n",
    "\n",
    "    calibrated_payouts = {\n",
    "        'Tier 1 (Severe)': base_payout_unit * payout_weights['tier1'],\n",
    "        'Tier 2 (Extreme)': base_payout_unit * payout_weights['tier2'],\n",
    "        'Tier 3 (Catastrophic)': base_payout_unit * payout_weights['tier3']\n",
    "    }\n",
    "    return calibrated_payouts\n",
    "\n",
    "# Execute the functions\n",
    "triggers = design_triggers(annual_index, TRIGGER_PERCENTILES)\n",
    "calibrated_payouts = calibrate_payout_slabs(\n",
    "    annual_index, triggers, TARGET_PREMIUM_RATE, EXPENSE_LOADING, RISK_MARGIN\n",
    ")\n",
    "\n",
    "print(\"--- Product Design ---\")\n",
    "print(f\"Index Definition: Maximum {ROLLING_WINDOW_DAYS}-Day Rolling Cumulative Rainfall\")\n",
    "print(f\"Sum Insured per Acre: ₹{SUM_INSURED_PER_ACRE:,.0f}\")\n",
    "\n",
    "print(\"\\n[A] Trigger Thresholds (based on historical data):\")\n",
    "for tier, threshold in triggers.items():\n",
    "    print(f\"  - {tier} (>{int(TRIGGER_PERCENTILES[tier]*100)}th percentile): {threshold:.2f} mm\")\n",
    "\n",
    "print(\"\\n[B] Calibrated Payout Slabs (to achieve 5% premium rate):\")\n",
    "for tier, payout_pct in calibrated_payouts.items():\n",
    "    print(f\"  - {tier}: {payout_pct*100:.2f}% of Sum Insured\")"
   ]
  },
  {
   "cell_type": "markdown",
   "metadata": {},
   "source": [
    "## 5. Back-testing and Simulation\n",
    "\n",
    "To validate the product, we run a historical simulation (back-test) to see how it would have performed from 2005-2024. This shows which years would have triggered a payout and the corresponding amount."
   ]
  },
  {
   "cell_type": "code",
   "execution_count": 24,
   "metadata": {},
   "outputs": [
    {
     "name": "stdout",
     "output_type": "stream",
     "text": [
      "--- Historical Simulation (Back-testing) ---\n",
      " Year Max 5-Day Sum (mm) Payout Tier Triggered Payout (% of SI) Payout per Acre (₹)\n",
      " 2005               0.60                  None            0.00%                  ₹0\n",
      " 2006               7.66                  None            0.00%                  ₹0\n",
      " 2007               0.12                  None            0.00%                  ₹0\n",
      " 2008              21.29                  None            0.00%                  ₹0\n",
      " 2009              96.56 Tier 3 (Catastrophic)           34.48%             ₹17,241\n",
      " 2010              21.95                  None            0.00%                  ₹0\n",
      " 2011               1.10                  None            0.00%                  ₹0\n",
      " 2012               2.82                  None            0.00%                  ₹0\n",
      " 2013              37.16                  None            0.00%                  ₹0\n",
      " 2014               4.06                  None            0.00%                  ₹0\n",
      " 2015              11.71                  None            0.00%                  ₹0\n",
      " 2016              39.71                  None            0.00%                  ₹0\n",
      " 2017              16.73                  None            0.00%                  ₹0\n",
      " 2018               0.65                  None            0.00%                  ₹0\n",
      " 2019              42.79                  None            0.00%                  ₹0\n",
      " 2020              21.47                  None            0.00%                  ₹0\n",
      " 2021              48.94       Tier 1 (Severe)            8.62%              ₹4,310\n",
      " 2022              55.71      Tier 2 (Extreme)           17.24%              ₹8,621\n",
      " 2023               1.51                  None            0.00%                  ₹0\n",
      " 2024              49.81       Tier 1 (Severe)            8.62%              ₹4,310\n"
     ]
    }
   ],
   "source": [
    "def run_simulation(annual_index, triggers, payouts, sum_insured):\n",
    "    \"\"\"\n",
    "    Runs a historical simulation (back-test) of the product.\n",
    "    \"\"\"\n",
    "    results = []\n",
    "    for year, index_value in annual_index.items():\n",
    "        payout_tier = 'None'\n",
    "        payout_percent = 0.0\n",
    "\n",
    "        if index_value >= triggers['Tier 3 (Catastrophic)']:\n",
    "            payout_tier = 'Tier 3 (Catastrophic)'\n",
    "            payout_percent = payouts['Tier 3 (Catastrophic)']\n",
    "        elif index_value >= triggers['Tier 2 (Extreme)']:\n",
    "            payout_tier = 'Tier 2 (Extreme)'\n",
    "            payout_percent = payouts['Tier 2 (Extreme)']\n",
    "        elif index_value >= triggers['Tier 1 (Severe)']:\n",
    "            payout_tier = 'Tier 1 (Severe)'\n",
    "            payout_percent = payouts['Tier 1 (Severe)']\n",
    "\n",
    "        payout_amount = payout_percent * sum_insured\n",
    "        results.append({\n",
    "            'Year': year,\n",
    "            f'Max {ROLLING_WINDOW_DAYS}-Day Sum (mm)': index_value,\n",
    "            'Payout Tier Triggered': payout_tier,\n",
    "            'Payout (% of SI)': payout_percent * 100,\n",
    "            'Payout per Acre (₹)': payout_amount\n",
    "        })\n",
    "\n",
    "    return pd.DataFrame(results)\n",
    "\n",
    "# Run the simulation\n",
    "simulation_results = run_simulation(\n",
    "    annual_index, triggers, calibrated_payouts, SUM_INSURED_PER_ACRE\n",
    ")\n",
    "\n",
    "print(\"--- Historical Simulation (Back-testing) ---\")\n",
    "simulation_results_display = simulation_results.copy()\n",
    "simulation_results_display['Payout (% of SI)'] = simulation_results_display['Payout (% of SI)'].map('{:.2f}%'.format)\n",
    "simulation_results_display['Payout per Acre (₹)'] = simulation_results_display['Payout per Acre (₹)'].map('₹{:,.0f}'.format)\n",
    "simulation_results_display[f'Max {ROLLING_WINDOW_DAYS}-Day Sum (mm)'] = simulation_results_display[f'Max {ROLLING_WINDOW_DAYS}-Day Sum (mm)'].map('{:.2f}'.format)\n",
    "\n",
    "print(simulation_results_display.to_string(index=False))"
   ]
  },
  {
   "cell_type": "markdown",
   "metadata": {},
   "source": [
    "## 6. Final Premium Calculation and Verification\n",
    "\n",
    "Finally, we verify that our calibrated payouts result in the target 5% commercial premium rate. We calculate the average annual payout from the simulation (the Pure Premium or Burn Cost) and then apply the expense and risk loadings to arrive at the final commercial premium."
   ]
  },
  {
   "cell_type": "code",
   "execution_count": 25,
   "metadata": {},
   "outputs": [
    {
     "name": "stdout",
     "output_type": "stream",
     "text": [
      "\n",
      "--- Final Premium Calculation Verification ---\n",
      "Average Annual Payout (Pure Premium Rate): 0.0345 or 3.45%\n",
      "Total Loading (Expenses + Risk Margin): 45%\n",
      "Calculated Commercial Premium Rate: 0.0500 or 5.00%\n",
      "\n",
      "Final Calibrated Premium per Acre: ₹2,500.00\n",
      "---------------------------------------------\n"
     ]
    }
   ],
   "source": [
    "print(\"\\n--- Final Premium Calculation Verification ---\")\n",
    "avg_payout_percent = simulation_results['Payout (% of SI)'].mean() / 100\n",
    "print(f\"Average Annual Payout (Pure Premium Rate): {avg_payout_percent:.4f} or {avg_payout_percent:.2%}\")\n",
    "\n",
    "commercial_premium_rate = avg_payout_percent * (1 + EXPENSE_LOADING + RISK_MARGIN)\n",
    "print(f\"Total Loading (Expenses + Risk Margin): {EXPENSE_LOADING + RISK_MARGIN:.0%}\")\n",
    "print(f\"Calculated Commercial Premium Rate: {commercial_premium_rate:.4f} or {commercial_premium_rate:.2%}\")\n",
    "\n",
    "final_premium_per_acre = commercial_premium_rate * SUM_INSURED_PER_ACRE\n",
    "print(f\"\\nFinal Calibrated Premium per Acre: ₹{final_premium_per_acre:,.2f}\")\n",
    "print(\"---------------------------------------------\")"
   ]
  }
 ],
 "metadata": {
  "kernelspec": {
   "display_name": "Python 3",
   "language": "python",
   "name": "python3"
  },
  "language_info": {
   "codemirror_mode": {
    "name": "ipython",
    "version": 3
   },
   "file_extension": ".py",
   "mimetype": "text/x-python",
   "name": "python",
   "nbconvert_exporter": "python",
   "pygments_lexer": "ipython3",
   "version": "3.13.5"
  }
 },
 "nbformat": 4,
 "nbformat_minor": 4
}
